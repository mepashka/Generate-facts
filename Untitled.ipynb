{
 "cells": [
  {
   "cell_type": "markdown",
   "id": "2efffa33",
   "metadata": {
    "toc": true
   },
   "source": [
    "<h1>Table of Contents<span class=\"tocSkip\"></span></h1>\n",
    "<div class=\"toc\"><ul class=\"toc-item\"></ul></div>"
   ]
  },
  {
   "cell_type": "code",
   "execution_count": 3,
   "id": "2ec41411",
   "metadata": {},
   "outputs": [
    {
     "name": "stdout",
     "output_type": "stream",
     "text": [
      "Доступные категории:\n",
      "Факты о животных\n",
      "Факты о космосе\n",
      "Факты о путешествиях\n",
      "Факты о науке\n",
      "Факты о спорте\n",
      "Факты о еде\n",
      "Факты о искусстве\n",
      "Факты о технологиях\n",
      "Факты о музыке\n",
      "Выберите категорию фактов: Факты о еде\n",
      "2. Ананас содержит фермент бромелаин, который помогает переваривать белки.\n"
     ]
    }
   ],
   "source": [
    "import codecs\n",
    "import random\n",
    "\n",
    "def load_facts():\n",
    "    facts = {}\n",
    "    with codecs.open('facts.txt', 'r', 'utf-8') as file:\n",
    "        category = ''\n",
    "        for line in file:\n",
    "            line = line.strip()\n",
    "            if line.startswith('#'):\n",
    "                category = line[1:].strip()\n",
    "                facts[category] = []\n",
    "            elif line:\n",
    "                facts[category].append(line)\n",
    "    return facts\n",
    "\n",
    "def main():\n",
    "    facts = load_facts()\n",
    "    categories = list(facts.keys())\n",
    "\n",
    "def generate_random_fact(facts, category):\n",
    "    if category in facts:\n",
    "        facts_in_category = facts[category]\n",
    "        return random.choice(facts_in_category)\n",
    "    else:\n",
    "        return \"Выбранная категория не найдена\"\n",
    "\n",
    "def main():\n",
    "    facts = load_facts()\n",
    "    categories = list(facts.keys())\n",
    "\n",
    "    print(\"Доступные категории:\")\n",
    "    for category in categories:\n",
    "        print(category)\n",
    "\n",
    "    category = input(\"Выберите категорию фактов: \")\n",
    "    random_fact = generate_random_fact(facts, category)\n",
    "    print(random_fact)\n",
    "\n",
    "if __name__ == '__main__':\n",
    "    main()"
   ]
  }
 ],
 "metadata": {
  "kernelspec": {
   "display_name": "Python 3 (ipykernel)",
   "language": "python",
   "name": "python3"
  },
  "language_info": {
   "codemirror_mode": {
    "name": "ipython",
    "version": 3
   },
   "file_extension": ".py",
   "mimetype": "text/x-python",
   "name": "python",
   "nbconvert_exporter": "python",
   "pygments_lexer": "ipython3",
   "version": "3.9.13"
  },
  "toc": {
   "base_numbering": 1,
   "nav_menu": {},
   "number_sections": true,
   "sideBar": true,
   "skip_h1_title": true,
   "title_cell": "Table of Contents",
   "title_sidebar": "Contents",
   "toc_cell": true,
   "toc_position": {},
   "toc_section_display": true,
   "toc_window_display": false
  }
 },
 "nbformat": 4,
 "nbformat_minor": 5
}
